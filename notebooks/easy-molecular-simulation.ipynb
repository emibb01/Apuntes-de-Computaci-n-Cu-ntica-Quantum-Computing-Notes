{
 "cells": [
  {
   "cell_type": "markdown",
   "id": "42fdb0a3-db98-418f-8bb3-96e6419558c5",
   "metadata": {},
   "source": [
    "# Easy Molecular Hamiltonians in Qiskit\n",
    "\n",
    "With the goal of making molecular simulation easier and more accessible in Qiskit, this notebook presents the implementation of a simple function that generates the electronic Hamiltonian of any molecule using Qiskit-Nature.\n",
    "\n",
    "This tool abstracts away the boilerplate setup of drivers, mappers, and problem definitions, allowing you to obtain both fermionic and qubit Hamiltonians with just a single function call.\n",
    "\n",
    "Whether you're experimenting with quantum chemistry or building VQE pipelines, this function aims to simplify the process and make molecular simulation more intuitive."
   ]
  },
  {
   "cell_type": "markdown",
   "id": "841ad7a9-8087-4bce-8737-2ffc1b9df7b6",
   "metadata": {},
   "source": [
    "## Second-Quantized Hamiltonian\n",
    "\n",
    "For molecular simulation, we aim to obtain the **electronic structure Hamiltonian** in **second quantization form**, which describes the behavior of interacting electrons in a set of orbitals.\n",
    "\n",
    "The general form of the fermionic Hamiltonian is:\n",
    "$$\n",
    "\\hat{H} = \\sum_{p,q} h_{pq} a^{\\dagger}_{p} a_q + \\frac{1}{2} \\sum_{p,q,r,s} h_{pqrs} a^{\\dagger}_{p} a^{\\dagger}_{q} a_r a_s\n",
    "$$\n",
    "\n",
    "\n",
    "Where:\n",
    "- $ a^{\\dagger}_p $, $ a_q $ are **fermionic creation and annihilation operators**,\n",
    "- $ h_{pq} $ are **one-electron integrals**,\n",
    "- $ h_{pqrs} $ are **two-electron integrals**.\n",
    "\n"
   ]
  },
  {
   "cell_type": "markdown",
   "id": "694ae88e-a1f4-4e8e-a938-21348635a280",
   "metadata": {},
   "source": [
    "## Mapping Fermionic to Qubit Hamiltonians\n",
    "\n",
    "For quantum computation, we cannot simulate fermionic operators directly, as quantum hardware operates on qubits using Pauli operators.\n",
    "\n",
    "To make molecular Hamiltonians executable on quantum devices, we need to **map the fermionic operators** to **qubit operators**.\n",
    "\n",
    "This process transforms the second-quantized Hamiltonian into a sum of tensor products of Pauli matrices. Two widely used mappings for this transformation are:\n",
    "\n",
    "- **Jordan–Wigner (JW) mapping**: a straightforward encoding where each fermionic mode maps to a qubit, using strings of Z operators to preserve parity.\n",
    "- **Bravyi–Kitaev (BK) mapping**: a more efficient encoding that reduces the number of Z gates required, offering better scaling for some problems.\n",
    "\n",
    "These mappings are built into Qiskit-Nature and can be selected based on the desired tradeoff between interpretability and circuit efficiency."
   ]
  },
  {
   "cell_type": "markdown",
   "id": "473c9163-c130-40ac-ae80-175a892b5e64",
   "metadata": {},
   "source": [
    "For the **Jordan-Wigner mapping**, the creation and annihilation operators take the form:\n",
    "$$a^{\\dagger}_{j}=\\hat{Q}^{+}_{j}\\otimes Z^{\\rightarrow}_{j-1}$$\n",
    "Where $\\hat{Q}^{+}_{j}=\\frac{1}{2}X_{j}-iY_{j}$, and\n",
    "$$a_{j}=\\hat{Q}^{-}_{j}\\otimes Z^{\\rightarrow}_{j-1}$$\n",
    "Where $\\hat{Q}^{-}_{j}=\\frac{1}{2}X_{j}+iY_{j}$\n",
    "\n",
    "For the **Bravyi–Kitaev (BK) mapping** the creation and annihilation operators take different form for j even and odd, when is even they take the form:\n",
    "$$a^{\\dagger}_{j}=X_{U(j)}\\otimes\\hat{Q}^{+}_{j}\\otimes Z_{P(j)}$$\n",
    "$$a_{j}=X_{U(j)}\\otimes\\hat{Q}^{-}_{j}\\otimes Z_{P(j)}$$\n",
    "when j is odd, they take the form:\n",
    "$$a^{\\dagger}_{j}=$$\n",
    "$$a_{j}=$$\n"
   ]
  },
  {
   "cell_type": "code",
   "execution_count": null,
   "id": "b8f66235-5b9e-4068-bb56-a175aa1a8240",
   "metadata": {},
   "outputs": [],
   "source": []
  }
 ],
 "metadata": {
  "kernelspec": {
   "display_name": "Python [conda env:base] *",
   "language": "python",
   "name": "conda-base-py"
  },
  "language_info": {
   "codemirror_mode": {
    "name": "ipython",
    "version": 3
   },
   "file_extension": ".py",
   "mimetype": "text/x-python",
   "name": "python",
   "nbconvert_exporter": "python",
   "pygments_lexer": "ipython3",
   "version": "3.12.7"
  }
 },
 "nbformat": 4,
 "nbformat_minor": 5
}
